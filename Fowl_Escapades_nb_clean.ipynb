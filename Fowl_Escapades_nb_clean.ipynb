{
  "nbformat": 4,
  "nbformat_minor": 0,
  "metadata": {
    "colab": {
      "name": "Fowl Escapades nb_clean.ipynb",
      "provenance": [],
      "collapsed_sections": [],
      "machine_shape": "hm",
      "include_colab_link": true
    },
    "kernelspec": {
      "name": "python3",
      "display_name": "Python 3"
    },
    "accelerator": "GPU"
  },
  "cells": [
    {
      "cell_type": "markdown",
      "metadata": {
        "id": "view-in-github",
        "colab_type": "text"
      },
      "source": [
        "<a href=\"https://colab.research.google.com/github/anindabitm/Fowl_escapades_Zindi/blob/master/Fowl_Escapades_nb_clean.ipynb\" target=\"_parent\"><img src=\"https://colab.research.google.com/assets/colab-badge.svg\" alt=\"Open In Colab\"/></a>"
      ]
    },
    {
      "cell_type": "markdown",
      "metadata": {
        "id": "2aeDCIq2AjQ7",
        "colab_type": "text"
      },
      "source": [
        "#Notebook to do audio classification\n",
        "\n",
        "Thanks to Jonathan Whitaker and Radek Osmulski   for their wonderful notebooks on doing deep learning in audio"
      ]
    },
    {
      "cell_type": "code",
      "metadata": {
        "id": "hZmRAzOtOkxR",
        "colab_type": "code",
        "colab": {}
      },
      "source": [
        "from google.colab import drive"
      ],
      "execution_count": 0,
      "outputs": []
    },
    {
      "cell_type": "code",
      "metadata": {
        "id": "6BR3ny_FOtWL",
        "colab_type": "code",
        "outputId": "442a752a-9fc8-4b43-82a6-3ae50d077ae9",
        "colab": {
          "base_uri": "https://localhost:8080/",
          "height": 128
        }
      },
      "source": [
        "drive.mount('/content/drive')"
      ],
      "execution_count": 0,
      "outputs": [
        {
          "output_type": "stream",
          "text": [
            "Go to this URL in a browser: https://accounts.google.com/o/oauth2/auth?client_id=947318989803-6bn6qk8qdgf4n4g3pfee6491hc0brc4i.apps.googleusercontent.com&redirect_uri=urn%3aietf%3awg%3aoauth%3a2.0%3aoob&response_type=code&scope=email%20https%3a%2f%2fwww.googleapis.com%2fauth%2fdocs.test%20https%3a%2f%2fwww.googleapis.com%2fauth%2fdrive%20https%3a%2f%2fwww.googleapis.com%2fauth%2fdrive.photos.readonly%20https%3a%2f%2fwww.googleapis.com%2fauth%2fpeopleapi.readonly\n",
            "\n",
            "Enter your authorization code:\n",
            "··········\n",
            "Mounted at /content/drive\n"
          ],
          "name": "stdout"
        }
      ]
    },
    {
      "cell_type": "markdown",
      "metadata": {
        "id": "kFiHpRkqAbPm",
        "colab_type": "text"
      },
      "source": [
        ">Download files from Zindi"
      ]
    },
    {
      "cell_type": "code",
      "metadata": {
        "id": "CynQMZRKPYiY",
        "colab_type": "code",
        "colab": {}
      },
      "source": [
        "import os\n",
        "os.chdir('/content/drive/My Drive/Fowl_audio_zindi/')"
      ],
      "execution_count": 0,
      "outputs": []
    },
    {
      "cell_type": "code",
      "metadata": {
        "id": "XGZ74BbjTvBb",
        "colab_type": "code",
        "colab": {}
      },
      "source": [
        "!mkdir train_spec test_spec\n",
        "!ls"
      ],
      "execution_count": 0,
      "outputs": []
    },
    {
      "cell_type": "code",
      "metadata": {
        "id": "G9EYxEfJPxFE",
        "colab_type": "code",
        "colab": {}
      },
      "source": [
        "#the url and auth_value from the website \n",
        "import requests\n",
        "import requests, zipfile\n",
        "\n",
        "url = 'https://api.zindi.africa/v1/competitions/fowl-escapades/files/Test.zip'\n",
        "myobj = {'auth_token': 'WPgEN1enJMGadXg2djyP2o7h'} \n",
        "\n",
        "x = requests.post(url, data = myobj,stream=True)\n",
        "target_path = 'test.zip'\n",
        "\n",
        "handle = open(target_path, \"wb\")\n",
        "for chunk in x.iter_content(chunk_size=512):\n",
        "    if chunk:  # filter out keep-alive new chunks\n",
        "        handle.write(chunk)\n",
        "handle.close()"
      ],
      "execution_count": 0,
      "outputs": []
    },
    {
      "cell_type": "code",
      "metadata": {
        "id": "6SZvOVTWTFUT",
        "colab_type": "code",
        "colab": {}
      },
      "source": [
        "url = \"https://api.zindi.africa/v1/competitions/fowl-escapades/files/Train.zip\"\n",
        "myobj = {'auth_token': 'WPgEN1enJMGadXg2djyP2o7h'} \n",
        "\n",
        "x = requests.post(url, data = myobj,stream=True)\n",
        "target_path = 'train.zip'\n",
        "\n",
        "handle = open(target_path, \"wb\")\n",
        "for chunk in x.iter_content(chunk_size=512):\n",
        "    if chunk:  # filter out keep-alive new chunks\n",
        "        handle.write(chunk)\n",
        "handle.close()"
      ],
      "execution_count": 0,
      "outputs": []
    },
    {
      "cell_type": "code",
      "metadata": {
        "id": "ptrFM42xVkAr",
        "colab_type": "code",
        "colab": {}
      },
      "source": [
        "!ls"
      ],
      "execution_count": 0,
      "outputs": []
    },
    {
      "cell_type": "markdown",
      "metadata": {
        "id": "KfUNF1TDL1AC",
        "colab_type": "text"
      },
      "source": [
        "# Unzip both the downloaded files - train.zip and test.zip \n",
        "\n"
      ]
    },
    {
      "cell_type": "code",
      "metadata": {
        "id": "KHIPP_HUIq1J",
        "colab_type": "code",
        "colab": {}
      },
      "source": [
        "!unzip train.zip"
      ],
      "execution_count": 0,
      "outputs": []
    },
    {
      "cell_type": "code",
      "metadata": {
        "id": "cMipbDH7f3xq",
        "colab_type": "code",
        "colab": {}
      },
      "source": [
        "!unzip test.zip"
      ],
      "execution_count": 0,
      "outputs": []
    },
    {
      "cell_type": "code",
      "metadata": {
        "id": "sL2Yv6VAgTG7",
        "colab_type": "code",
        "colab": {}
      },
      "source": [
        "!ls"
      ],
      "execution_count": 0,
      "outputs": []
    },
    {
      "cell_type": "markdown",
      "metadata": {
        "id": "h083S_PZBZOe",
        "colab_type": "text"
      },
      "source": [
        "#Import the libraries and start the magic :)"
      ]
    },
    {
      "cell_type": "code",
      "metadata": {
        "id": "ksXHxLZrMLqf",
        "colab_type": "code",
        "colab": {}
      },
      "source": [
        "import os\n",
        "import sys\n",
        "import csv\n",
        "import shutil\n",
        "from pathlib import Path\n",
        "from IPython.display import Audio, display\n",
        "import librosa\n",
        "import librosa.display\n",
        "import matplotlib.pyplot as plt\n",
        "import numpy as np\n",
        "import pandas as pd\n",
        "import torch\n",
        "import random\n",
        "import pandas as pd\n",
        "%matplotlib inline"
      ],
      "execution_count": 0,
      "outputs": []
    },
    {
      "cell_type": "code",
      "metadata": {
        "id": "fVGq5N22gEzl",
        "colab_type": "code",
        "colab": {}
      },
      "source": [
        "#As usual we would be using fastai2\n",
        "!pip install fastai2"
      ],
      "execution_count": 0,
      "outputs": []
    },
    {
      "cell_type": "code",
      "metadata": {
        "id": "ecmPj_eggd3l",
        "colab_type": "code",
        "colab": {}
      },
      "source": [
        "#Install torchaudio also\n",
        "!pip install torchaudio"
      ],
      "execution_count": 0,
      "outputs": []
    },
    {
      "cell_type": "code",
      "metadata": {
        "id": "XHnshBHhgPgB",
        "colab_type": "code",
        "colab": {}
      },
      "source": [
        "from fastai2.torch_basics import *\n",
        "from fastai2.basics import *\n",
        "from fastai2.data.all import *\n",
        "from fastai2.callback.all import *\n",
        "from fastai2.vision.all import *\n",
        "import torchaudio"
      ],
      "execution_count": 0,
      "outputs": []
    },
    {
      "cell_type": "markdown",
      "metadata": {
        "id": "e1-SQoKeBozR",
        "colab_type": "text"
      },
      "source": [
        ">Try to seed everything. Reproducibility is sometimes an issue"
      ]
    },
    {
      "cell_type": "code",
      "metadata": {
        "id": "OLvud6PvbyHP",
        "colab_type": "code",
        "colab": {}
      },
      "source": [
        "#seed everything\n",
        "seed = 42\n",
        "# python RNG\n",
        "random.seed(seed)\n",
        "# pytorch RNGs\n",
        "torch.manual_seed(seed)\n",
        "torch.backends.cudnn.deterministic = True\n",
        "if torch.cuda.is_available(): torch.cuda.manual_seed_all(seed)\n",
        "# numpy RNG\n",
        "np.random.seed(seed)"
      ],
      "execution_count": 0,
      "outputs": []
    },
    {
      "cell_type": "code",
      "metadata": {
        "id": "PXYv3doIMIs5",
        "colab_type": "code",
        "colab": {}
      },
      "source": [
        "#Take a sneak peek into the sample submission file\n",
        "sub = pd.read_csv('SampleSubmission.csv')\n",
        "sub.head()"
      ],
      "execution_count": 0,
      "outputs": []
    },
    {
      "cell_type": "code",
      "metadata": {
        "id": "eSYcXfG6MP6Y",
        "colab_type": "code",
        "outputId": "3cf73827-528b-4694-d9e3-66f3ceb6c76f",
        "colab": {
          "base_uri": "https://localhost:8080/",
          "height": 198
        }
      },
      "source": [
        "#See the train file\n",
        "train = pd.read_csv('Train.csv')\n",
        "train.head()"
      ],
      "execution_count": 0,
      "outputs": [
        {
          "output_type": "execute_result",
          "data": {
            "text/html": [
              "<div>\n",
              "<style scoped>\n",
              "    .dataframe tbody tr th:only-of-type {\n",
              "        vertical-align: middle;\n",
              "    }\n",
              "\n",
              "    .dataframe tbody tr th {\n",
              "        vertical-align: top;\n",
              "    }\n",
              "\n",
              "    .dataframe thead th {\n",
              "        text-align: right;\n",
              "    }\n",
              "</style>\n",
              "<table border=\"1\" class=\"dataframe\">\n",
              "  <thead>\n",
              "    <tr style=\"text-align: right;\">\n",
              "      <th></th>\n",
              "      <th>ID</th>\n",
              "      <th>common_name</th>\n",
              "    </tr>\n",
              "  </thead>\n",
              "  <tbody>\n",
              "    <tr>\n",
              "      <th>0</th>\n",
              "      <td>MBMG2C</td>\n",
              "      <td>Ring-necked Dove</td>\n",
              "    </tr>\n",
              "    <tr>\n",
              "      <th>1</th>\n",
              "      <td>K8LJSB</td>\n",
              "      <td>Ring-necked Dove</td>\n",
              "    </tr>\n",
              "    <tr>\n",
              "      <th>2</th>\n",
              "      <td>OGD9L6</td>\n",
              "      <td>Ring-necked Dove</td>\n",
              "    </tr>\n",
              "    <tr>\n",
              "      <th>3</th>\n",
              "      <td>581PCQ</td>\n",
              "      <td>Ring-necked Dove</td>\n",
              "    </tr>\n",
              "    <tr>\n",
              "      <th>4</th>\n",
              "      <td>P91M1F</td>\n",
              "      <td>Ring-necked Dove</td>\n",
              "    </tr>\n",
              "  </tbody>\n",
              "</table>\n",
              "</div>"
            ],
            "text/plain": [
              "       ID       common_name\n",
              "0  MBMG2C  Ring-necked Dove\n",
              "1  K8LJSB  Ring-necked Dove\n",
              "2  OGD9L6  Ring-necked Dove\n",
              "3  581PCQ  Ring-necked Dove\n",
              "4  P91M1F  Ring-necked Dove"
            ]
          },
          "metadata": {
            "tags": []
          },
          "execution_count": 12
        }
      ]
    },
    {
      "cell_type": "code",
      "metadata": {
        "id": "WFmwmb6FMgJB",
        "colab_type": "code",
        "colab": {}
      },
      "source": [
        "# Add file names- Trick taken from John's notebook\n",
        "train['file_name'] = 'Train/'+train['ID']+'.mp3'\n",
        "sub['file_name'] = 'Test/'+sub['ID']+'.mp3'"
      ],
      "execution_count": 0,
      "outputs": []
    },
    {
      "cell_type": "markdown",
      "metadata": {
        "id": "DmlqQD0aNNqI",
        "colab_type": "text"
      },
      "source": [
        "# Using spectrogram to do deep learning.\n",
        ">(Great repository to start learning on sound)\n",
        "\n",
        ">https://github.com/earthspecies \n",
        "\n",
        ">https://github.com/mogwai/fastai_audio\n"
      ]
    },
    {
      "cell_type": "code",
      "metadata": {
        "id": "UoXO2MFXPYqt",
        "colab_type": "code",
        "colab": {}
      },
      "source": [
        "#listen to a sound\n",
        "pth = train['file_name'].sample(1).values[0]\n",
        "Audio(filename=str(pth))"
      ],
      "execution_count": 0,
      "outputs": []
    },
    {
      "cell_type": "code",
      "metadata": {
        "id": "lV3SpwY-jPb3",
        "colab_type": "code",
        "colab": {}
      },
      "source": [
        "example='Train/A8KUNQ.mp3'\n",
        "y, sr = librosa.load(example)\n",
        "display(Audio(y, rate=sr))\n",
        "sg = librosa.feature.melspectrogram(y, sr=sr,  n_fft=2048, hop_length=512, power=1.0, n_mels=128, fmin=0.0, fmax=None)\n",
        "db_spec = librosa.amplitude_to_db(sg, ref=1.0, amin=1e-05, top_db=80.0)\n",
        "librosa.display.specshow(db_spec, y_axis='mel', fmax=8000, x_axis='time')"
      ],
      "execution_count": 0,
      "outputs": []
    },
    {
      "cell_type": "code",
      "metadata": {
        "id": "8XsILtiMkMmI",
        "colab_type": "code",
        "outputId": "079142c6-2c4e-4785-a7bd-f6d1babfdd44",
        "colab": {
          "base_uri": "https://localhost:8080/",
          "height": 35
        }
      },
      "source": [
        "print('Clip length is',len(y)/sr,'seconds')"
      ],
      "execution_count": 0,
      "outputs": [
        {
          "output_type": "stream",
          "text": [
            "Clip length is 16.393560090702948 seconds\n"
          ],
          "name": "stdout"
        }
      ]
    },
    {
      "cell_type": "code",
      "metadata": {
        "id": "GMgiZz3wnXK4",
        "colab_type": "code",
        "colab": {}
      },
      "source": [
        "#Run it only once to find out clip length and sample rate\n",
        "from tqdm import tqdm\n",
        "audio_len=[]\n",
        "sr_list=[]\n",
        "for idx in tqdm(range(len(train))):\n",
        "  y,sr=librosa.load(train.loc[idx]['file_name'])\n",
        "  audio_len.append(len(y))\n",
        "  sr_list.append(sr)"
      ],
      "execution_count": 0,
      "outputs": []
    },
    {
      "cell_type": "code",
      "metadata": {
        "id": "liviByZ9BN7e",
        "colab_type": "code",
        "outputId": "9550b7b5-07cf-494b-84e3-0123a9df6b7f",
        "colab": {
          "base_uri": "https://localhost:8080/",
          "height": 204
        }
      },
      "source": [
        "#Run it only once\n",
        "train['sr']=sr_list\n",
        "train['audio_len']=audio_len\n",
        "train.head()"
      ],
      "execution_count": 0,
      "outputs": [
        {
          "output_type": "execute_result",
          "data": {
            "text/html": [
              "<div>\n",
              "<style scoped>\n",
              "    .dataframe tbody tr th:only-of-type {\n",
              "        vertical-align: middle;\n",
              "    }\n",
              "\n",
              "    .dataframe tbody tr th {\n",
              "        vertical-align: top;\n",
              "    }\n",
              "\n",
              "    .dataframe thead th {\n",
              "        text-align: right;\n",
              "    }\n",
              "</style>\n",
              "<table border=\"1\" class=\"dataframe\">\n",
              "  <thead>\n",
              "    <tr style=\"text-align: right;\">\n",
              "      <th></th>\n",
              "      <th>Unnamed: 0</th>\n",
              "      <th>ID</th>\n",
              "      <th>common_name</th>\n",
              "      <th>file_name</th>\n",
              "      <th>sr</th>\n",
              "      <th>audio_len</th>\n",
              "    </tr>\n",
              "  </thead>\n",
              "  <tbody>\n",
              "    <tr>\n",
              "      <th>0</th>\n",
              "      <td>0</td>\n",
              "      <td>MBMG2C</td>\n",
              "      <td>Ring-necked Dove</td>\n",
              "      <td>Train/MBMG2C.mp3</td>\n",
              "      <td>22050</td>\n",
              "      <td>361478</td>\n",
              "    </tr>\n",
              "    <tr>\n",
              "      <th>1</th>\n",
              "      <td>1</td>\n",
              "      <td>K8LJSB</td>\n",
              "      <td>Ring-necked Dove</td>\n",
              "      <td>Train/K8LJSB.mp3</td>\n",
              "      <td>22050</td>\n",
              "      <td>265536</td>\n",
              "    </tr>\n",
              "    <tr>\n",
              "      <th>2</th>\n",
              "      <td>2</td>\n",
              "      <td>OGD9L6</td>\n",
              "      <td>Ring-necked Dove</td>\n",
              "      <td>Train/OGD9L6.mp3</td>\n",
              "      <td>22050</td>\n",
              "      <td>1548288</td>\n",
              "    </tr>\n",
              "    <tr>\n",
              "      <th>3</th>\n",
              "      <td>3</td>\n",
              "      <td>581PCQ</td>\n",
              "      <td>Ring-necked Dove</td>\n",
              "      <td>Train/581PCQ.mp3</td>\n",
              "      <td>22050</td>\n",
              "      <td>471744</td>\n",
              "    </tr>\n",
              "    <tr>\n",
              "      <th>4</th>\n",
              "      <td>4</td>\n",
              "      <td>P91M1F</td>\n",
              "      <td>Ring-necked Dove</td>\n",
              "      <td>Train/P91M1F.mp3</td>\n",
              "      <td>22050</td>\n",
              "      <td>870534</td>\n",
              "    </tr>\n",
              "  </tbody>\n",
              "</table>\n",
              "</div>"
            ],
            "text/plain": [
              "   Unnamed: 0      ID       common_name         file_name     sr  audio_len\n",
              "0           0  MBMG2C  Ring-necked Dove  Train/MBMG2C.mp3  22050     361478\n",
              "1           1  K8LJSB  Ring-necked Dove  Train/K8LJSB.mp3  22050     265536\n",
              "2           2  OGD9L6  Ring-necked Dove  Train/OGD9L6.mp3  22050    1548288\n",
              "3           3  581PCQ  Ring-necked Dove  Train/581PCQ.mp3  22050     471744\n",
              "4           4  P91M1F  Ring-necked Dove  Train/P91M1F.mp3  22050     870534"
            ]
          },
          "metadata": {
            "tags": []
          },
          "execution_count": 18
        }
      ]
    },
    {
      "cell_type": "code",
      "metadata": {
        "id": "Md6XTQwNdp0z",
        "colab_type": "code",
        "outputId": "c1341e1d-0762-45ef-d71d-0662c81ad2d5",
        "colab": {
          "base_uri": "https://localhost:8080/",
          "height": 204
        }
      },
      "source": [
        "#Run it only once\n",
        "train['duration']=train['audio_len']/train['sr']\n",
        "train.head()"
      ],
      "execution_count": 0,
      "outputs": [
        {
          "output_type": "execute_result",
          "data": {
            "text/html": [
              "<div>\n",
              "<style scoped>\n",
              "    .dataframe tbody tr th:only-of-type {\n",
              "        vertical-align: middle;\n",
              "    }\n",
              "\n",
              "    .dataframe tbody tr th {\n",
              "        vertical-align: top;\n",
              "    }\n",
              "\n",
              "    .dataframe thead th {\n",
              "        text-align: right;\n",
              "    }\n",
              "</style>\n",
              "<table border=\"1\" class=\"dataframe\">\n",
              "  <thead>\n",
              "    <tr style=\"text-align: right;\">\n",
              "      <th></th>\n",
              "      <th>Unnamed: 0</th>\n",
              "      <th>ID</th>\n",
              "      <th>common_name</th>\n",
              "      <th>file_name</th>\n",
              "      <th>sr</th>\n",
              "      <th>audio_len</th>\n",
              "      <th>duration</th>\n",
              "    </tr>\n",
              "  </thead>\n",
              "  <tbody>\n",
              "    <tr>\n",
              "      <th>0</th>\n",
              "      <td>0</td>\n",
              "      <td>MBMG2C</td>\n",
              "      <td>Ring-necked Dove</td>\n",
              "      <td>Train/MBMG2C.mp3</td>\n",
              "      <td>22050</td>\n",
              "      <td>361478</td>\n",
              "      <td>16.393560</td>\n",
              "    </tr>\n",
              "    <tr>\n",
              "      <th>1</th>\n",
              "      <td>1</td>\n",
              "      <td>K8LJSB</td>\n",
              "      <td>Ring-necked Dove</td>\n",
              "      <td>Train/K8LJSB.mp3</td>\n",
              "      <td>22050</td>\n",
              "      <td>265536</td>\n",
              "      <td>12.042449</td>\n",
              "    </tr>\n",
              "    <tr>\n",
              "      <th>2</th>\n",
              "      <td>2</td>\n",
              "      <td>OGD9L6</td>\n",
              "      <td>Ring-necked Dove</td>\n",
              "      <td>Train/OGD9L6.mp3</td>\n",
              "      <td>22050</td>\n",
              "      <td>1548288</td>\n",
              "      <td>70.217143</td>\n",
              "    </tr>\n",
              "    <tr>\n",
              "      <th>3</th>\n",
              "      <td>3</td>\n",
              "      <td>581PCQ</td>\n",
              "      <td>Ring-necked Dove</td>\n",
              "      <td>Train/581PCQ.mp3</td>\n",
              "      <td>22050</td>\n",
              "      <td>471744</td>\n",
              "      <td>21.394286</td>\n",
              "    </tr>\n",
              "    <tr>\n",
              "      <th>4</th>\n",
              "      <td>4</td>\n",
              "      <td>P91M1F</td>\n",
              "      <td>Ring-necked Dove</td>\n",
              "      <td>Train/P91M1F.mp3</td>\n",
              "      <td>22050</td>\n",
              "      <td>870534</td>\n",
              "      <td>39.480000</td>\n",
              "    </tr>\n",
              "  </tbody>\n",
              "</table>\n",
              "</div>"
            ],
            "text/plain": [
              "   Unnamed: 0      ID       common_name  ...     sr  audio_len   duration\n",
              "0           0  MBMG2C  Ring-necked Dove  ...  22050     361478  16.393560\n",
              "1           1  K8LJSB  Ring-necked Dove  ...  22050     265536  12.042449\n",
              "2           2  OGD9L6  Ring-necked Dove  ...  22050    1548288  70.217143\n",
              "3           3  581PCQ  Ring-necked Dove  ...  22050     471744  21.394286\n",
              "4           4  P91M1F  Ring-necked Dove  ...  22050     870534  39.480000\n",
              "\n",
              "[5 rows x 7 columns]"
            ]
          },
          "metadata": {
            "tags": []
          },
          "execution_count": 19
        }
      ]
    },
    {
      "cell_type": "code",
      "metadata": {
        "id": "3SeElEK3d0ac",
        "colab_type": "code",
        "colab": {}
      },
      "source": [
        "#Run it only once\n",
        "train.to_csv('train_aug.csv')"
      ],
      "execution_count": 0,
      "outputs": []
    },
    {
      "cell_type": "code",
      "metadata": {
        "id": "ik8wWCO2hXkp",
        "colab_type": "code",
        "outputId": "09ea6c40-4a90-4e16-beaf-7cefe68f70a6",
        "colab": {
          "base_uri": "https://localhost:8080/",
          "height": 198
        }
      },
      "source": [
        "train=pd.read_csv('train_aug.csv')\n",
        "train.head()"
      ],
      "execution_count": 0,
      "outputs": [
        {
          "output_type": "execute_result",
          "data": {
            "text/html": [
              "<div>\n",
              "<style scoped>\n",
              "    .dataframe tbody tr th:only-of-type {\n",
              "        vertical-align: middle;\n",
              "    }\n",
              "\n",
              "    .dataframe tbody tr th {\n",
              "        vertical-align: top;\n",
              "    }\n",
              "\n",
              "    .dataframe thead th {\n",
              "        text-align: right;\n",
              "    }\n",
              "</style>\n",
              "<table border=\"1\" class=\"dataframe\">\n",
              "  <thead>\n",
              "    <tr style=\"text-align: right;\">\n",
              "      <th></th>\n",
              "      <th>Unnamed: 0</th>\n",
              "      <th>Unnamed: 0.1</th>\n",
              "      <th>ID</th>\n",
              "      <th>common_name</th>\n",
              "      <th>file_name</th>\n",
              "      <th>sr</th>\n",
              "      <th>audio_len</th>\n",
              "      <th>duration</th>\n",
              "    </tr>\n",
              "  </thead>\n",
              "  <tbody>\n",
              "    <tr>\n",
              "      <th>0</th>\n",
              "      <td>0</td>\n",
              "      <td>0</td>\n",
              "      <td>MBMG2C</td>\n",
              "      <td>Ring-necked Dove</td>\n",
              "      <td>Train/MBMG2C.mp3</td>\n",
              "      <td>22050</td>\n",
              "      <td>361478</td>\n",
              "      <td>16.393560</td>\n",
              "    </tr>\n",
              "    <tr>\n",
              "      <th>1</th>\n",
              "      <td>1</td>\n",
              "      <td>1</td>\n",
              "      <td>K8LJSB</td>\n",
              "      <td>Ring-necked Dove</td>\n",
              "      <td>Train/K8LJSB.mp3</td>\n",
              "      <td>22050</td>\n",
              "      <td>265536</td>\n",
              "      <td>12.042449</td>\n",
              "    </tr>\n",
              "    <tr>\n",
              "      <th>2</th>\n",
              "      <td>2</td>\n",
              "      <td>2</td>\n",
              "      <td>OGD9L6</td>\n",
              "      <td>Ring-necked Dove</td>\n",
              "      <td>Train/OGD9L6.mp3</td>\n",
              "      <td>22050</td>\n",
              "      <td>1548288</td>\n",
              "      <td>70.217143</td>\n",
              "    </tr>\n",
              "    <tr>\n",
              "      <th>3</th>\n",
              "      <td>3</td>\n",
              "      <td>3</td>\n",
              "      <td>581PCQ</td>\n",
              "      <td>Ring-necked Dove</td>\n",
              "      <td>Train/581PCQ.mp3</td>\n",
              "      <td>22050</td>\n",
              "      <td>471744</td>\n",
              "      <td>21.394286</td>\n",
              "    </tr>\n",
              "    <tr>\n",
              "      <th>4</th>\n",
              "      <td>4</td>\n",
              "      <td>4</td>\n",
              "      <td>P91M1F</td>\n",
              "      <td>Ring-necked Dove</td>\n",
              "      <td>Train/P91M1F.mp3</td>\n",
              "      <td>22050</td>\n",
              "      <td>870534</td>\n",
              "      <td>39.480000</td>\n",
              "    </tr>\n",
              "  </tbody>\n",
              "</table>\n",
              "</div>"
            ],
            "text/plain": [
              "   Unnamed: 0  Unnamed: 0.1      ID  ...     sr audio_len   duration\n",
              "0           0             0  MBMG2C  ...  22050    361478  16.393560\n",
              "1           1             1  K8LJSB  ...  22050    265536  12.042449\n",
              "2           2             2  OGD9L6  ...  22050   1548288  70.217143\n",
              "3           3             3  581PCQ  ...  22050    471744  21.394286\n",
              "4           4             4  P91M1F  ...  22050    870534  39.480000\n",
              "\n",
              "[5 rows x 8 columns]"
            ]
          },
          "metadata": {
            "tags": []
          },
          "execution_count": 35
        }
      ]
    },
    {
      "cell_type": "markdown",
      "metadata": {
        "id": "UuIzsNWIDtIK",
        "colab_type": "text"
      },
      "source": [
        ">Lets check the duration of these sound bytes"
      ]
    },
    {
      "cell_type": "code",
      "metadata": {
        "id": "B-qkxkaqhUbL",
        "colab_type": "code",
        "outputId": "357f75e5-9999-45ae-b34e-74cdc9180704",
        "colab": {
          "base_uri": "https://localhost:8080/",
          "height": 356
        }
      },
      "source": [
        "import seaborn as sns\n",
        "sns.set()\n",
        "sns.barplot(x=train.groupby(['common_name']).mean()['duration'].index,y=train.groupby(['common_name']).mean()['duration'].values)\n",
        "#Varying duration bytes"
      ],
      "execution_count": 0,
      "outputs": [
        {
          "output_type": "stream",
          "text": [
            "/usr/local/lib/python3.6/dist-packages/statsmodels/tools/_testing.py:19: FutureWarning: pandas.util.testing is deprecated. Use the functions in the public API at pandas.testing instead.\n",
            "  import pandas.util.testing as tm\n"
          ],
          "name": "stderr"
        },
        {
          "output_type": "execute_result",
          "data": {
            "text/plain": [
              "<matplotlib.axes._subplots.AxesSubplot at 0x7f750c6220f0>"
            ]
          },
          "metadata": {
            "tags": []
          },
          "execution_count": 22
        },
        {
          "output_type": "display_data",
          "data": {
            "image/png": "[encoded data removed]",
            "text/plain": [
              "<Figure size 432x288 with 1 Axes>"
            ]
          },
          "metadata": {
            "tags": []
          }
        }
      ]
    },
    {
      "cell_type": "code",
      "metadata": {
        "id": "yKsxjWzJuSSB",
        "colab_type": "code",
        "colab": {}
      },
      "source": [
        "#Run to generate spectrograms\n",
        "sr = 22050\n",
        "num_samples = int( 20 * sr)"
      ],
      "execution_count": 0,
      "outputs": []
    },
    {
      "cell_type": "code",
      "metadata": {
        "id": "tkPNbjwfta45",
        "colab_type": "code",
        "colab": {}
      },
      "source": [
        "#function to generate spectrograms of training data\n",
        "import matplotlib\n",
        "matplotlib.use('agg')\n",
        "def mel_spec_img(fn,num_samples):\n",
        "  fig = plt.figure(frameon=False,figsize=[8, 8])\n",
        "  ax = fig.add_subplot(111)\n",
        "  ax.axes.get_xaxis().set_visible(False)\n",
        "  ax.axes.get_yaxis().set_visible(False)\n",
        "  ax.set_frame_on(False)\n",
        "  y, sr = librosa.load(fn)\n",
        "  y = librosa.util.fix_length(y, num_samples)\n",
        "  sg = librosa.feature.melspectrogram(y, sr=sr,  n_fft=2048, hop_length=512, power=1.0, n_mels=128, fmin=0.0, fmax=None)\n",
        "  db_spec = librosa.amplitude_to_db(sg, ref=1.0, amin=1e-05, top_db=80.0)\n",
        "  db_spec = (db_spec - db_spec.min())/(db_spec.max() - db_spec.min()) * 255\n",
        "  ax=librosa.display.specshow(db_spec, y_axis='mel', fmax=8000, x_axis='time')\n",
        "  ax.figure.savefig('./train_spec/{}.png'.format(fn.split('/')[1].split('.')[0]),dpi=64,bbox_inches = 'tight',pad_inches = 0)\n",
        "  plt.close(fig)"
      ],
      "execution_count": 0,
      "outputs": []
    },
    {
      "cell_type": "code",
      "metadata": {
        "id": "5huWmIMUyaks",
        "colab_type": "code",
        "outputId": "ff994f80-d810-4032-ee72-322ad9e5d3ef",
        "colab": {
          "base_uri": "https://localhost:8080/",
          "height": 35
        }
      },
      "source": [
        "#Call spectrogram generation function to generate images for training data\n",
        "from tqdm import tqdm\n",
        "for idx in tqdm(range(len(train))):\n",
        "  mel_spec_img(train.loc[idx]['file_name'],num_samples=num_samples)"
      ],
      "execution_count": 0,
      "outputs": [
        {
          "output_type": "stream",
          "text": [
            "100%|██████████| 1857/1857 [22:22<00:00,  1.38it/s]\n"
          ],
          "name": "stderr"
        }
      ]
    },
    {
      "cell_type": "code",
      "metadata": {
        "id": "AmK5UUNKGsSh",
        "colab_type": "code",
        "colab": {}
      },
      "source": [
        "#function to generate spectrograms of test data\n",
        "import matplotlib\n",
        "matplotlib.use('agg')\n",
        "def mel_spec_img(fn,num_samples):\n",
        "  fig = plt.figure(frameon=False,figsize=[8, 8])\n",
        "  ax = fig.add_subplot(111)\n",
        "  ax.axes.get_xaxis().set_visible(False)\n",
        "  ax.axes.get_yaxis().set_visible(False)\n",
        "  ax.set_frame_on(False)\n",
        "  y, sr = librosa.load(fn)\n",
        "  y = librosa.util.fix_length(y, num_samples)\n",
        "  sg = librosa.feature.melspectrogram(y, sr=sr,  n_fft=2048, hop_length=512, power=1.0, n_mels=128, fmin=0.0, fmax=None)\n",
        "  db_spec = librosa.amplitude_to_db(sg, ref=1.0, amin=1e-05, top_db=80.0)\n",
        "  db_spec = (db_spec - db_spec.min())/(db_spec.max() - db_spec.min()) * 255\n",
        "  ax=librosa.display.specshow(db_spec, y_axis='mel', fmax=8000, x_axis='time')\n",
        "  ax.figure.savefig('./test_spec/{}.png'.format(fn.split('/')[1].split('.')[0]),dpi=64,bbox_inches = 'tight',pad_inches = 0)\n",
        "  plt.close(fig)"
      ],
      "execution_count": 0,
      "outputs": []
    },
    {
      "cell_type": "code",
      "metadata": {
        "id": "a5ztSDJjGzDk",
        "colab_type": "code",
        "colab": {}
      },
      "source": [
        "#Call spectrogram generation function to generate images for test data\n",
        "from tqdm import tqdm\n",
        "for idx in tqdm(range(len(sub))):\n",
        "  mel_spec_img(sub.loc[idx]['file_name'],num_samples=num_samples)"
      ],
      "execution_count": 0,
      "outputs": []
    },
    {
      "cell_type": "code",
      "metadata": {
        "id": "6btpfs3fqFNU",
        "colab_type": "code",
        "colab": {}
      },
      "source": [
        "def get_items(path): return get_files(path)\n",
        "\n",
        "def get_y(fn): \n",
        "  id=str(fn).split('/')[1].split('.')[0]\n",
        "  cn=train.loc[train['ID']==id]['common_name'].tolist()[0]\n",
        "  return cn"
      ],
      "execution_count": 0,
      "outputs": []
    },
    {
      "cell_type": "markdown",
      "metadata": {
        "id": "XIkYLyYiHRqn",
        "colab_type": "text"
      },
      "source": [
        "#Using StratifiedKfold cross validation to reduce overfitting"
      ]
    },
    {
      "cell_type": "code",
      "metadata": {
        "id": "k7gAG1ZGflpx",
        "colab_type": "code",
        "colab": {}
      },
      "source": [
        "from sklearn.model_selection import StratifiedKFold\n",
        "skf = StratifiedKFold(n_splits=5,shuffle=True,random_state=42)\n",
        "X=train['file_name'].copy()\n",
        "y=train['common_name'].copy()\n",
        "fold = 0\n",
        "for train_index, test_index in skf.split(X, y):\n",
        "  fold+= 1\n",
        "  print('In fold',fold)\n",
        "  print(\"TRAIN LENGTH:\", len(train_index), \"VALIDATION LENGTH:\", len(test_index))\n",
        "  train[f'fold_{fold}_valid']=False\n",
        "  train.loc[test_index,f'fold_{fold}_valid']=True"
      ],
      "execution_count": 0,
      "outputs": []
    },
    {
      "cell_type": "code",
      "metadata": {
        "id": "zghkQ8qHjmaD",
        "colab_type": "code",
        "colab": {}
      },
      "source": [
        "train.head(10)"
      ],
      "execution_count": 0,
      "outputs": []
    },
    {
      "cell_type": "code",
      "metadata": {
        "id": "eNxgNiPmqeKB",
        "colab_type": "code",
        "colab": {}
      },
      "source": [
        "def dataloader(mask):\n",
        "  db = DataBlock(\n",
        "    blocks=(ImageBlock, CategoryBlock),\n",
        "    get_items=get_items,\n",
        "    get_y=get_y,\n",
        "    splitter=MaskSplitter(mask),\n",
        "    item_tfms = Resize(512),\n",
        "    )\n",
        "  return (db.dataloaders(Path('./train_spec/'),bs=8))"
      ],
      "execution_count": 0,
      "outputs": []
    },
    {
      "cell_type": "code",
      "metadata": {
        "id": "e_PQP6xDqf4D",
        "colab_type": "code",
        "colab": {}
      },
      "source": [
        "final_preds=np.zeros((sub.shape[0],sub.shape[1]-1))\n",
        "fold = 0\n",
        "for fold in range(5):\n",
        "  fold+=1\n",
        "  print('In fold:',fold)\n",
        "  mask=list(train[f'fold_{fold}_valid'].copy())\n",
        "  dls=dataloader(mask)\n",
        "  dls.show_batch()\n",
        "  learn = cnn_learner(dls,xresnet50,metrics=[accuracy,top_k_accuracy])\n",
        "  learn.fine_tune(10)\n",
        "  dl_test=learn.dls.test_dl(get_items(Path('./test_spec/')))\n",
        "  preds, _ = learn.get_preds(dl=dl_test)\n",
        "  print('Prediction completed in fold: {}'.format(str(fold)))\n",
        "  final_preds+=preds.numpy()\n",
        "  \n",
        "final_preds=final_preds/5"
      ],
      "execution_count": 0,
      "outputs": []
    },
    {
      "cell_type": "code",
      "metadata": {
        "id": "eeQ32w05wKxk",
        "colab_type": "code",
        "colab": {}
      },
      "source": [
        "final_preds.shape\n",
        "pd.DataFrame(final_preds,columns=sub.columns[1:]).head()"
      ],
      "execution_count": 0,
      "outputs": []
    },
    {
      "cell_type": "code",
      "metadata": {
        "id": "nOHCbH6J5HgO",
        "colab_type": "code",
        "colab": {}
      },
      "source": [
        "import gc\n",
        "learn = None\n",
        "gc.collect()\n",
        "torch.cuda.empty_cache()"
      ],
      "execution_count": 0,
      "outputs": []
    },
    {
      "cell_type": "code",
      "metadata": {
        "id": "MLhD37S7UHRu",
        "colab_type": "code",
        "colab": {}
      },
      "source": [
        "sub.drop(['file_name'],axis=1,inplace=True)\n",
        "sub.head()"
      ],
      "execution_count": 0,
      "outputs": []
    },
    {
      "cell_type": "code",
      "metadata": {
        "id": "3e4NBif0UeFi",
        "colab_type": "code",
        "colab": {}
      },
      "source": [
        "sub1=sub.copy()\n",
        "for birds_pred in dls.vocab:\n",
        "  sub1[birds_pred]=final_preds[:,dls.vocab.o2i[birds_pred]]"
      ],
      "execution_count": 0,
      "outputs": []
    },
    {
      "cell_type": "code",
      "metadata": {
        "id": "p1XZqHTXWS_d",
        "colab_type": "code",
        "colab": {}
      },
      "source": [
        "sub1.head()"
      ],
      "execution_count": 0,
      "outputs": []
    },
    {
      "cell_type": "markdown",
      "metadata": {
        "id": "yj9LGWbBq1kg",
        "colab_type": "text"
      },
      "source": [
        "# Making a submission\n",
        "\n",
        "Save the model's predicted probabilities to a file following the sample submission format. This can be submitted on Zindi."
      ]
    },
    {
      "cell_type": "code",
      "metadata": {
        "id": "nDv8mMfGVZFh",
        "colab_type": "code",
        "outputId": "e71f2797-7c24-4d23-bd7f-a33e25631503",
        "colab": {
          "base_uri": "https://localhost:8080/",
          "height": 34
        }
      },
      "source": [
        "# Check shape\n",
        "sub1.shape"
      ],
      "execution_count": 0,
      "outputs": [
        {
          "output_type": "execute_result",
          "data": {
            "text/plain": [
              "(911, 41)"
            ]
          },
          "metadata": {
            "tags": []
          },
          "execution_count": 48
        }
      ]
    },
    {
      "cell_type": "code",
      "metadata": {
        "id": "qubvC_PnVlGe",
        "colab_type": "code",
        "colab": {}
      },
      "source": [
        "# Save \n",
        "sub1.to_csv('submission_fowl_cv.csv', index=False)"
      ],
      "execution_count": 0,
      "outputs": []
    }
  ]
}